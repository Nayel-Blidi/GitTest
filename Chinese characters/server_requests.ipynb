{
 "cells": [
  {
   "cell_type": "code",
   "execution_count": 14,
   "metadata": {},
   "outputs": [
    {
     "name": "stdout",
     "output_type": "stream",
     "text": [
      "<Response [200]>\n",
      "[    0                                                  1                  2\n",
      "0 NaN  (function(){var id='tsuid_1';document.getEleme...  Recherche avancée]\n"
     ]
    },
    {
     "ename": "AttributeError",
     "evalue": "'list' object has no attribute 'values'",
     "output_type": "error",
     "traceback": [
      "\u001b[1;31m---------------------------------------------------------------------------\u001b[0m",
      "\u001b[1;31mAttributeError\u001b[0m                            Traceback (most recent call last)",
      "Cell \u001b[1;32mIn[14], line 38\u001b[0m\n\u001b[0;32m     36\u001b[0m response \u001b[39m=\u001b[39m requests\u001b[39m.\u001b[39mpost(url, data\u001b[39m=\u001b[39m{\u001b[39m\"\u001b[39m\u001b[39mSearch items\u001b[39m\u001b[39m\"\u001b[39m: \u001b[39m\"\u001b[39m\u001b[39mcat pictures\u001b[39m\u001b[39m\"\u001b[39m})\n\u001b[0;32m     37\u001b[0m webpage \u001b[39m=\u001b[39m pd\u001b[39m.\u001b[39mread_html(requests\u001b[39m.\u001b[39mget(url)\u001b[39m.\u001b[39mtext)\n\u001b[1;32m---> 38\u001b[0m \u001b[39mprint\u001b[39m(web_page\u001b[39m.\u001b[39;49mvalues)\n\u001b[0;32m     39\u001b[0m \u001b[39mprint\u001b[39m(web_page[\u001b[39m-\u001b[39m\u001b[39m1\u001b[39m])\n",
      "\u001b[1;31mAttributeError\u001b[0m: 'list' object has no attribute 'values'"
     ]
    }
   ],
   "source": [
    "\n",
    "import numpy as np\n",
    "import pandas as pd\n",
    "import matplotlib.pyplot as plt\n",
    "\n",
    "from tqdm import tqdm\n",
    "import os \n",
    "import requests\n",
    "\n",
    "\n",
    "url = \"https://translate.google.com/?hl=fr\"\n",
    "url = \"https://www.google.com/\"\n",
    "\n",
    "# headers = {\n",
    "#     \"User-Agent\": \"Mozilla/5.0 (Windows NT 10.0; Win64; x64; rv:66.0) Gecko/20100101 Firefox/66.0\",\n",
    "#     \"Accept-Encoding\": \"*\",\n",
    "#     \"Connection\": \"keep-alive\"\n",
    "# }\n",
    "\n",
    "# headers = {\n",
    "#     'Content-Type': 'application/json',\n",
    "#     'accept': 'application/json',\n",
    "# }\n",
    "\n",
    "data = {\n",
    "    'key1': 'value1',\n",
    "    'key2': 'value2',\n",
    "    'key3': 'value3'\n",
    "}\n",
    "\n",
    "# response = requests.get(url=url)\n",
    "response = requests.get(url)\n",
    "print(response)\n",
    "web_page = pd.read_html(response.text)\n",
    "print(web_page)\n",
    "\n",
    "response = requests.post(url, data={\"Search items\": \"cat pictures\"})\n",
    "webpage = pd.read_html(requests.get(url).text)\n",
    "print(web_page)\n",
    "print(web_page[-1])\n"
   ]
  }
 ],
 "metadata": {
  "kernelspec": {
   "display_name": "base",
   "language": "python",
   "name": "python3"
  },
  "language_info": {
   "codemirror_mode": {
    "name": "ipython",
    "version": 3
   },
   "file_extension": ".py",
   "mimetype": "text/x-python",
   "name": "python",
   "nbconvert_exporter": "python",
   "pygments_lexer": "ipython3",
   "version": "3.9.16"
  },
  "orig_nbformat": 4
 },
 "nbformat": 4,
 "nbformat_minor": 2
}
