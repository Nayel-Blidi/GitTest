{
 "cells": [
  {
   "cell_type": "markdown",
   "metadata": {},
   "source": [
    " # Ma511 FINAL PROJECT\n",
    " - BLIDI Nayel\n",
    " - DESCHAMPS Léo\n",
    " - POISSONNET Clément"
   ]
  },
  {
   "cell_type": "markdown",
   "metadata": {},
   "source": [
    "# Preamble\n",
    "\n",
    "This project is divided into multiple parts, where each tries a different approach in order to reach the best accuracy results on the testing dataset. Please note that all but the first part can be executed independantly, thus the **PART I has to be compiled at every kernel start/restart**.  \n",
    "<br>\n",
    "Also note that this work is using a personal deep learning library, that is provided as a copy alongside this file, and can also be publically accessed remotely from the following link:  \n",
    "<br>\n",
    "https://github.com/Nayel-Blidi/PyYel  \n",
    "<br>\n",
    "This will allow us to quickly deploy a data processing pipeline, as well as implement some simple network architechtures, to rapidely get a grasp of the complexity of the problem.\n",
    "\n",
    "##### **PART I - Exploratory Data Analysis** *(All cells must be executed once)*\n",
    "- Datapoints shapes and plotting\n",
    "- train&test keys dataframing\n",
    "- json cleaning and dataframing \n",
    "- main csv dataframing  \n",
    "\n",
    "Where:  \n",
    "- **0** corresponds to the **Abies** species,\n",
    "- **1** corresponds to the **Fagus** species,\n",
    "- **2** corresponds to the **Larix** species.\n",
    "- **3** corresponds to the **Picea** species.\n",
    "- **4** corresponds to the **Quercus** species.\n",
    "- **5** corresponds to the **Pseudotsuga** species.\n",
    "- **6** corresponds to the **Pinus** species.\n",
    "- **7** corresponds to the **Acer** species.\n",
    "- **8** corresponds to the **Betula** species.\n",
    "- **9** corresponds to the **Fraxinus** species.\n",
    "- **10** corresponds to the **Cleared** species.\n",
    "- **11** corresponds to the **Alnus** species.\n",
    "- **12** corresponds to the **Populus** species.\n",
    "- **13** corresponds to the **Prunus** species.\n",
    "- **14** corresponds to the **Tilia** species.\n",
    "##### **PART II - S1 Dataset** *(Execution is non-mandatory)*\n",
    "- Tests a simple Convolutional Neural Network on the S1 dataset\n",
    "\n",
    "##### **PART III - S2 Dataset** *(Execution is non-mandatory)*\n",
    "- Tests a simple Convolutional Neural Network on the S2 dataset\n",
    "\n",
    "##### **PART IV - S1 & S2 Merged Datasets** *(Execution is non-mandatory)*\n",
    "- Tests a simple Convolutional Neural Network on both S1 and S2 merged datasets\n",
    "\n",
    "##### **PART V - Fully connected NN architecture** *(Execution is non-mandatory)*\n",
    "- Tests a simple deep Multi-Perceptron Neural Network (S1 & S2)\n",
    "\n",
    "##### **PART VI - Transfer Learning** *(Execution is non-mandatory)*\n",
    "- Tests a deeply complex Convolutional Neural Network (S1 & S2)\n",
    "\n"
   ]
  },
  {
   "cell_type": "markdown",
   "metadata": {},
   "source": [
    "A synthesis of all the part's results can be found below (best results, S1 & S2 merged) (all are detailled inside of their respective parts):  \n",
    "| Architecture | Epochs | Training Accuracy (%) | Testing Accuracy (%) |\n",
    "|--------------|--------|-----------------------|----------------------|\n",
    "| CNN          | 500    | 63 | 60 |\n",
    "| CNN          | 1000   | **68** | **62** |\n",
    "| LayeredNN    | 500   | 32 | 27 |\n"
   ]
  },
  {
   "cell_type": "code",
   "execution_count": null,
   "metadata": {},
   "outputs": [],
   "source": [
    "import numpy as np\n",
    "import pandas as pd\n",
    "import matplotlib.pyplot as plt\n",
    "import tifffile as tiff\n",
    "import json\n",
    "\n",
    "from tqdm import tqdm\n",
    "\n",
    "import torch\n",
    "import torch.nn as nn\n",
    "import torchvision.models as models\n",
    "\n",
    "import os\n",
    "\n",
    "main_path = os.path.abspath(\"\") + \"/\"\n",
    "s1_path = main_path + \"s1_60m/\"\n",
    "s2_path = main_path + \"s2_60m/\"\n",
    "labels_path = main_path + \"labels/\"\n",
    "output_path = main_path + \"Models/\""
   ]
  },
  {
   "cell_type": "markdown",
   "metadata": {},
   "source": [
    "# PART I - Exploratory Data Analysis\n",
    "Let's first try to understand the data we are facing, by plotting and printing some of its aspect, begining with the datapoints."
   ]
  },
  {
   "cell_type": "code",
   "execution_count": null,
   "metadata": {},
   "outputs": [
    {
     "name": "stdout",
     "output_type": "stream",
     "text": [
      "(6, 6, 3)\n",
      "[[ -5.335223    -6.2998185    0.8468852 ]\n",
      " [ -3.9937298   -5.6843624    0.7025818 ]\n",
      " [ -3.9333224   -7.61211      0.51671904]\n",
      " [ -3.6292474  -11.363376     0.3193811 ]\n",
      " [ -5.431843   -11.382256     0.47722024]\n",
      " [ -6.261381   -11.427894     0.54790336]]\n",
      "(6, 6, 12)\n",
      "[[  97  176   89 1536  330 1166 1487 1677  546  208  112 1625]\n",
      " [  93  199   79 1585  314 1144 1474 1664  539  210   96 1624]\n",
      " [  86  199   87 1605  307 1194 1537 1652  484  180  107 1630]\n",
      " [  65  189   73 1581  311 1196 1540 1642  471  177  101 1628]\n",
      " [  90  220  104 1696  317 1268 1582 1726  493  194  117 1634]\n",
      " [ 101  220   98 1721  313 1253 1564 1704  464  168   99 1643]]\n"
     ]
    }
   ],
   "source": [
    "s1_file_list = [file for file in os.listdir(s1_path) if file.endswith(\".tif\")]\n",
    "s2_file_list = [file for file in os.listdir(s2_path) if file.endswith(\".tif\")]\n",
    "\n",
    "arr = np.array(tiff.imread(s1_path + s1_file_list[0]))\n",
    "print(arr.shape)\n",
    "print(arr[0])\n",
    "arr = np.array(tiff.imread(s2_path + s2_file_list[0]))\n",
    "print(arr.shape)\n",
    "print(arr[0])\n"
   ]
  },
  {
   "cell_type": "code",
   "execution_count": 3,
   "metadata": {},
   "outputs": [
    {
     "name": "stderr",
     "output_type": "stream",
     "text": [
      "Clipping input data to the valid range for imshow with RGB data ([0..1] for floats or [0..255] for integers).\n",
      "Clipping input data to the valid range for imshow with RGB data ([0..1] for floats or [0..255] for integers).\n",
      "Clipping input data to the valid range for imshow with RGB data ([0..1] for floats or [0..255] for integers).\n",
      "Clipping input data to the valid range for imshow with RGB data ([0..1] for floats or [0..255] for integers).\n",
      "Clipping input data to the valid range for imshow with RGB data ([0..1] for floats or [0..255] for integers).\n",
      "Clipping input data to the valid range for imshow with RGB data ([0..1] for floats or [0..255] for integers).\n",
      "Clipping input data to the valid range for imshow with RGB data ([0..1] for floats or [0..255] for integers).\n",
      "Clipping input data to the valid range for imshow with RGB data ([0..1] for floats or [0..255] for integers).\n",
      "Clipping input data to the valid range for imshow with RGB data ([0..1] for floats or [0..255] for integers).\n"
     ]
    },
    {
     "data": {
      "image/png": "[encoded data removed]",
      "text/plain": [
       "<Figure size 640x480 with 9 Axes>"
      ]
     },
     "metadata": {},
     "output_type": "display_data"
    },
    {
     "data": {
      "image/png": "[encoded data removed]",
      "text/plain": [
       "<Figure size 640x480 with 9 Axes>"
      ]
     },
     "metadata": {},
     "output_type": "display_data"
    }
   ],
   "source": [
    "plt.subplots(3, 3)\n",
    "plt.suptitle(\"S1 normalized files\")\n",
    "for image_idx, image in enumerate(s1_file_list[0:9]):\n",
    "    plt.subplot(3, 3, image_idx+1)\n",
    "    arr = tiff.imread(s1_path + image)\n",
    "    normalized_array = (arr - arr.min()) / (arr.max() - arr.min())\n",
    "    plt.imshow(normalized_array)\n",
    "    plt.title(image_idx+1)\n",
    "\n",
    "plt.subplots(3, 3)\n",
    "plt.suptitle(\"S1 clipped files\")\n",
    "for image_idx, image in enumerate(s1_file_list[0:9]):\n",
    "    plt.subplot(3, 3, image_idx+1)\n",
    "    arr = tiff.imread(s1_path + image)\n",
    "    plt.imshow(arr)\n",
    "    plt.title(image_idx+1)"
   ]
  },
  {
   "cell_type": "markdown",
   "metadata": {},
   "source": [
    "Now, let's try to load the labels and the training and testing file repartition."
   ]
  },
  {
   "cell_type": "code",
   "execution_count": 4,
   "metadata": {},
   "outputs": [
    {
     "data": {
      "text/html": [
       "<div>\n",
       "<style scoped>\n",
       "    .dataframe tbody tr th:only-of-type {\n",
       "        vertical-align: middle;\n",
       "    }\n",
       "\n",
       "    .dataframe tbody tr th {\n",
       "        vertical-align: top;\n",
       "    }\n",
       "\n",
       "    .dataframe thead th {\n",
       "        text-align: right;\n",
       "    }\n",
       "</style>\n",
       "<table border=\"1\" class=\"dataframe\">\n",
       "  <thead>\n",
       "    <tr style=\"text-align: right;\">\n",
       "      <th></th>\n",
       "      <th>Filenames</th>\n",
       "      <th>Is_trainable</th>\n",
       "    </tr>\n",
       "  </thead>\n",
       "  <tbody>\n",
       "    <tr>\n",
       "      <th>0</th>\n",
       "      <td>Abies_alba_0_2545_WEFL_NLF.tif</td>\n",
       "      <td>1</td>\n",
       "    </tr>\n",
       "    <tr>\n",
       "      <th>1</th>\n",
       "      <td>Abies_alba_1_1005_WEFL_NLF.tif</td>\n",
       "      <td>1</td>\n",
       "    </tr>\n",
       "    <tr>\n",
       "      <th>2</th>\n",
       "      <td>Abies_alba_1_322558_BI_NLF.tif</td>\n",
       "      <td>1</td>\n",
       "    </tr>\n",
       "    <tr>\n",
       "      <th>3</th>\n",
       "      <td>Abies_alba_2_113_WEFL_NLF.tif</td>\n",
       "      <td>1</td>\n",
       "    </tr>\n",
       "    <tr>\n",
       "      <th>4</th>\n",
       "      <td>Abies_alba_2_1184_WEFL_NLF.tif</td>\n",
       "      <td>1</td>\n",
       "    </tr>\n",
       "  </tbody>\n",
       "</table>\n",
       "</div>"
      ],
      "text/plain": [
       "                        Filenames  Is_trainable\n",
       "0  Abies_alba_0_2545_WEFL_NLF.tif             1\n",
       "1  Abies_alba_1_1005_WEFL_NLF.tif             1\n",
       "2  Abies_alba_1_322558_BI_NLF.tif             1\n",
       "3   Abies_alba_2_113_WEFL_NLF.tif             1\n",
       "4  Abies_alba_2_1184_WEFL_NLF.tif             1"
      ]
     },
     "metadata": {},
     "output_type": "display_data"
    },
    {
     "data": {
      "text/plain": [
       "Is_trainable    45337.0\n",
       "Name: count, dtype: float64"
      ]
     },
     "metadata": {},
     "output_type": "display_data"
    },
    {
     "data": {
      "text/html": [
       "<div>\n",
       "<style scoped>\n",
       "    .dataframe tbody tr th:only-of-type {\n",
       "        vertical-align: middle;\n",
       "    }\n",
       "\n",
       "    .dataframe tbody tr th {\n",
       "        vertical-align: top;\n",
       "    }\n",
       "\n",
       "    .dataframe thead th {\n",
       "        text-align: right;\n",
       "    }\n",
       "</style>\n",
       "<table border=\"1\" class=\"dataframe\">\n",
       "  <thead>\n",
       "    <tr style=\"text-align: right;\">\n",
       "      <th></th>\n",
       "      <th>Filenames</th>\n",
       "      <th>Is_trainable</th>\n",
       "    </tr>\n",
       "  </thead>\n",
       "  <tbody>\n",
       "    <tr>\n",
       "      <th>0</th>\n",
       "      <td>Abies_alba_2_14344_BI_NLF.tif</td>\n",
       "      <td>0</td>\n",
       "    </tr>\n",
       "    <tr>\n",
       "      <th>1</th>\n",
       "      <td>Abies_alba_2_1440_WEFL_NLF.tif</td>\n",
       "      <td>0</td>\n",
       "    </tr>\n",
       "    <tr>\n",
       "      <th>2</th>\n",
       "      <td>Abies_alba_2_2481_WEFL_NLF.tif</td>\n",
       "      <td>0</td>\n",
       "    </tr>\n",
       "    <tr>\n",
       "      <th>3</th>\n",
       "      <td>Abies_alba_2_3075_WEFL_NLF.tif</td>\n",
       "      <td>0</td>\n",
       "    </tr>\n",
       "    <tr>\n",
       "      <th>4</th>\n",
       "      <td>Abies_alba_2_3244_WEFL_NLF.tif</td>\n",
       "      <td>0</td>\n",
       "    </tr>\n",
       "  </tbody>\n",
       "</table>\n",
       "</div>"
      ],
      "text/plain": [
       "                        Filenames  Is_trainable\n",
       "0   Abies_alba_2_14344_BI_NLF.tif             0\n",
       "1  Abies_alba_2_1440_WEFL_NLF.tif             0\n",
       "2  Abies_alba_2_2481_WEFL_NLF.tif             0\n",
       "3  Abies_alba_2_3075_WEFL_NLF.tif             0\n",
       "4  Abies_alba_2_3244_WEFL_NLF.tif             0"
      ]
     },
     "metadata": {},
     "output_type": "display_data"
    },
    {
     "data": {
      "text/plain": [
       "Is_trainable    5044.0\n",
       "Name: count, dtype: float64"
      ]
     },
     "metadata": {},
     "output_type": "display_data"
    }
   ],
   "source": [
    "df_train_filenames = pd.read_csv(main_path+\"train_filenames.lst\", header=None, names=[\"Filenames\"])\n",
    "df_train_filenames[[\"Is_trainable\"]] = 1\n",
    "display(df_train_filenames.head())\n",
    "display(df_train_filenames.describe().loc[\"count\"])\n",
    "df_test_filenames = pd.read_csv(main_path+\"test_filenames.lst\", header=None, names=[\"Filenames\"])\n",
    "df_test_filenames[[\"Is_trainable\"]] = 0\n",
    "display(df_test_filenames.head())\n",
    "display(df_test_filenames.describe().loc[\"count\"])"
   ]
  },
  {
   "cell_type": "markdown",
   "metadata": {},
   "source": [
    "The two datasets count of entries ad up to 45337 + 5044 = **50381**. Below is the reading of the json file containing the repartition of species among each datapoint. These samples sum up to **50380**, meaning one datapoint is missing between these two corresponding datapoints, which is a rather insignificant issue."
   ]
  },
  {
   "cell_type": "code",
   "execution_count": 5,
   "metadata": {},
   "outputs": [
    {
     "name": "stdout",
     "output_type": "stream",
     "text": [
      "[['Pseudotsuga', 1.0]]\n",
      "[['Abies', 0.93771], ['Larix', 0.06229]]\n",
      "[['Acer', 0.93266], ['Picea', 0.06734]]\n",
      "[['Betula', 0.94366]]\n",
      "[['Cleared', 1.0]]\n",
      "[['Fagus', 0.94659], ['Picea', 0.05341]]\n",
      "[['Pseudotsuga', 0.38587], ['Picea', 0.34596], ['Quercus', 0.26817]]\n"
     ]
    }
   ],
   "source": [
    "with open(labels_path+\"TreeSatBA_v9_60m_multi_labels.json\", 'r') as json_file:\n",
    "    data = json.load(json_file)\n",
    "\n",
    "for idx, key in enumerate(data.keys()):\n",
    "    print(data[key])\n",
    "    if idx >=6: break\n"
   ]
  },
  {
   "cell_type": "markdown",
   "metadata": {},
   "source": [
    "As shown in the small sample above, we are promptly met with an issue: some datapoints are not featuring only one 'pure' target.  \n",
    "Because we are not facing a dataset with boundary boxes representation, let's consider these datapoints are training examples of worse quality, as they are 'corrupted' by other classes. By retreiving only the most represented target and storing it in a dataframe, we 'purify' our dataset, and we'll then be able to decide until wich 'purity' threshold a datapoint can be considered 'good' or 'corrupted'."
   ]
  },
  {
   "cell_type": "code",
   "execution_count": 6,
   "metadata": {},
   "outputs": [
    {
     "data": {
      "text/html": [
       "<div>\n",
       "<style scoped>\n",
       "    .dataframe tbody tr th:only-of-type {\n",
       "        vertical-align: middle;\n",
       "    }\n",
       "\n",
       "    .dataframe tbody tr th {\n",
       "        vertical-align: top;\n",
       "    }\n",
       "\n",
       "    .dataframe thead th {\n",
       "        text-align: right;\n",
       "    }\n",
       "</style>\n",
       "<table border=\"1\" class=\"dataframe\">\n",
       "  <thead>\n",
       "    <tr style=\"text-align: right;\">\n",
       "      <th></th>\n",
       "      <th>Filenames</th>\n",
       "      <th>Species</th>\n",
       "      <th>Percentages</th>\n",
       "    </tr>\n",
       "  </thead>\n",
       "  <tbody>\n",
       "    <tr>\n",
       "      <th>0</th>\n",
       "      <td>Pseudotsuga_menziesii_3_78528_WEFL_NLF.tif</td>\n",
       "      <td>Pseudotsuga</td>\n",
       "      <td>1.00000</td>\n",
       "    </tr>\n",
       "    <tr>\n",
       "      <th>1</th>\n",
       "      <td>Abies_alba_3_834_WEFL_NLF.tif</td>\n",
       "      <td>Abies</td>\n",
       "      <td>0.93771</td>\n",
       "    </tr>\n",
       "    <tr>\n",
       "      <th>2</th>\n",
       "      <td>Acer_pseudoplatanus_1_7587_WEFL_NLF.tif</td>\n",
       "      <td>Acer</td>\n",
       "      <td>0.93266</td>\n",
       "    </tr>\n",
       "    <tr>\n",
       "      <th>3</th>\n",
       "      <td>Betula_spec._3_16038_WEFL_NLF.tif</td>\n",
       "      <td>Betula</td>\n",
       "      <td>0.94366</td>\n",
       "    </tr>\n",
       "    <tr>\n",
       "      <th>4</th>\n",
       "      <td>Cleared_0_23454_WEFL_NLF.tif</td>\n",
       "      <td>Cleared</td>\n",
       "      <td>1.00000</td>\n",
       "    </tr>\n",
       "  </tbody>\n",
       "</table>\n",
       "</div>"
      ],
      "text/plain": [
       "                                    Filenames      Species  Percentages\n",
       "0  Pseudotsuga_menziesii_3_78528_WEFL_NLF.tif  Pseudotsuga      1.00000\n",
       "1               Abies_alba_3_834_WEFL_NLF.tif        Abies      0.93771\n",
       "2     Acer_pseudoplatanus_1_7587_WEFL_NLF.tif         Acer      0.93266\n",
       "3           Betula_spec._3_16038_WEFL_NLF.tif       Betula      0.94366\n",
       "4                Cleared_0_23454_WEFL_NLF.tif      Cleared      1.00000"
      ]
     },
     "metadata": {},
     "output_type": "display_data"
    },
    {
     "data": {
      "text/plain": [
       "Percentages    50380.0\n",
       "Name: count, dtype: float64"
      ]
     },
     "metadata": {},
     "output_type": "display_data"
    },
    {
     "name": "stdout",
     "output_type": "stream",
     "text": [
      "['Pseudotsuga' 'Abies' 'Acer' 'Betula' 'Cleared' 'Fagus' 'Fraxinus'\n",
      " 'Pinus' 'Larix' 'Quercus' 'Picea' 'Alnus' 'Populus' 'Prunus' 'Tilia']\n"
     ]
    }
   ],
   "source": [
    "labels_list = []\n",
    "for idx, key in enumerate(data.keys()):\n",
    "    labels_list.append([key, *max(data[key], key=lambda x: x[1])])\n",
    "\n",
    "df_json = pd.DataFrame(labels_list, columns=[\"Filenames\", \"Species\", \"Percentages\"])\n",
    "display(df_json.head())\n",
    "display(df_json.describe().loc[\"count\"])\n",
    "\n",
    "print(pd.unique(df_json[\"Species\"]))"
   ]
  },
  {
   "cell_type": "markdown",
   "metadata": {},
   "source": [
    "Let's now unify our train & test datasets and our targets & percentage json."
   ]
  },
  {
   "cell_type": "code",
   "execution_count": 7,
   "metadata": {},
   "outputs": [
    {
     "data": {
      "text/plain": [
       "Is_trainable    50381.0\n",
       "Name: count, dtype: float64"
      ]
     },
     "metadata": {},
     "output_type": "display_data"
    },
    {
     "data": {
      "text/html": [
       "<div>\n",
       "<style scoped>\n",
       "    .dataframe tbody tr th:only-of-type {\n",
       "        vertical-align: middle;\n",
       "    }\n",
       "\n",
       "    .dataframe tbody tr th {\n",
       "        vertical-align: top;\n",
       "    }\n",
       "\n",
       "    .dataframe thead th {\n",
       "        text-align: right;\n",
       "    }\n",
       "</style>\n",
       "<table border=\"1\" class=\"dataframe\">\n",
       "  <thead>\n",
       "    <tr style=\"text-align: right;\">\n",
       "      <th></th>\n",
       "      <th>Filenames</th>\n",
       "      <th>Is_trainable</th>\n",
       "    </tr>\n",
       "  </thead>\n",
       "  <tbody>\n",
       "    <tr>\n",
       "      <th>0</th>\n",
       "      <td>Abies_alba_0_2545_WEFL_NLF.tif</td>\n",
       "      <td>1</td>\n",
       "    </tr>\n",
       "    <tr>\n",
       "      <th>1</th>\n",
       "      <td>Abies_alba_1_1005_WEFL_NLF.tif</td>\n",
       "      <td>1</td>\n",
       "    </tr>\n",
       "    <tr>\n",
       "      <th>2</th>\n",
       "      <td>Abies_alba_1_322558_BI_NLF.tif</td>\n",
       "      <td>1</td>\n",
       "    </tr>\n",
       "    <tr>\n",
       "      <th>3</th>\n",
       "      <td>Abies_alba_2_113_WEFL_NLF.tif</td>\n",
       "      <td>1</td>\n",
       "    </tr>\n",
       "    <tr>\n",
       "      <th>4</th>\n",
       "      <td>Abies_alba_2_1184_WEFL_NLF.tif</td>\n",
       "      <td>1</td>\n",
       "    </tr>\n",
       "  </tbody>\n",
       "</table>\n",
       "</div>"
      ],
      "text/plain": [
       "                        Filenames  Is_trainable\n",
       "0  Abies_alba_0_2545_WEFL_NLF.tif             1\n",
       "1  Abies_alba_1_1005_WEFL_NLF.tif             1\n",
       "2  Abies_alba_1_322558_BI_NLF.tif             1\n",
       "3   Abies_alba_2_113_WEFL_NLF.tif             1\n",
       "4  Abies_alba_2_1184_WEFL_NLF.tif             1"
      ]
     },
     "metadata": {},
     "output_type": "display_data"
    },
    {
     "data": {
      "text/html": [
       "<div>\n",
       "<style scoped>\n",
       "    .dataframe tbody tr th:only-of-type {\n",
       "        vertical-align: middle;\n",
       "    }\n",
       "\n",
       "    .dataframe tbody tr th {\n",
       "        vertical-align: top;\n",
       "    }\n",
       "\n",
       "    .dataframe thead th {\n",
       "        text-align: right;\n",
       "    }\n",
       "</style>\n",
       "<table border=\"1\" class=\"dataframe\">\n",
       "  <thead>\n",
       "    <tr style=\"text-align: right;\">\n",
       "      <th></th>\n",
       "      <th>Filenames</th>\n",
       "      <th>Species</th>\n",
       "      <th>Percentages</th>\n",
       "    </tr>\n",
       "  </thead>\n",
       "  <tbody>\n",
       "    <tr>\n",
       "      <th>0</th>\n",
       "      <td>Pseudotsuga_menziesii_3_78528_WEFL_NLF.tif</td>\n",
       "      <td>Pseudotsuga</td>\n",
       "      <td>1.00000</td>\n",
       "    </tr>\n",
       "    <tr>\n",
       "      <th>1</th>\n",
       "      <td>Abies_alba_3_834_WEFL_NLF.tif</td>\n",
       "      <td>Abies</td>\n",
       "      <td>0.93771</td>\n",
       "    </tr>\n",
       "    <tr>\n",
       "      <th>2</th>\n",
       "      <td>Acer_pseudoplatanus_1_7587_WEFL_NLF.tif</td>\n",
       "      <td>Acer</td>\n",
       "      <td>0.93266</td>\n",
       "    </tr>\n",
       "    <tr>\n",
       "      <th>3</th>\n",
       "      <td>Betula_spec._3_16038_WEFL_NLF.tif</td>\n",
       "      <td>Betula</td>\n",
       "      <td>0.94366</td>\n",
       "    </tr>\n",
       "    <tr>\n",
       "      <th>4</th>\n",
       "      <td>Cleared_0_23454_WEFL_NLF.tif</td>\n",
       "      <td>Cleared</td>\n",
       "      <td>1.00000</td>\n",
       "    </tr>\n",
       "  </tbody>\n",
       "</table>\n",
       "</div>"
      ],
      "text/plain": [
       "                                    Filenames      Species  Percentages\n",
       "0  Pseudotsuga_menziesii_3_78528_WEFL_NLF.tif  Pseudotsuga      1.00000\n",
       "1               Abies_alba_3_834_WEFL_NLF.tif        Abies      0.93771\n",
       "2     Acer_pseudoplatanus_1_7587_WEFL_NLF.tif         Acer      0.93266\n",
       "3           Betula_spec._3_16038_WEFL_NLF.tif       Betula      0.94366\n",
       "4                Cleared_0_23454_WEFL_NLF.tif      Cleared      1.00000"
      ]
     },
     "metadata": {},
     "output_type": "display_data"
    }
   ],
   "source": [
    "df_train_test = pd.concat([df_train_filenames, df_test_filenames], axis=0)\n",
    "display(df_train_test.describe().loc[\"count\"])\n",
    "\n",
    "# We drop the execentary value (and all non matching data if there is any) (inner join)\n",
    "df_train_test = df_train_test[df_train_test['Filenames'].isin(df_json['Filenames'])]\n",
    "\n",
    "display(df_train_test.head())\n",
    "display(df_json.head())"
   ]
  },
  {
   "cell_type": "markdown",
   "metadata": {},
   "source": [
    "The merged array featuring all the information needed to reference the data that will be used during this study is referenced into a single dataframe, where:\n",
    "- **0** corresponds to the **Abies** species,\n",
    "- **1** corresponds to the **Fagus** species,\n",
    "- **2** corresponds to the **Larix** species.\n",
    "- **3** corresponds to the **Picea** species.\n",
    "- **4** corresponds to the **Quercus** species.\n",
    "- **5** corresponds to the **Pseudotsuga** species.\n",
    "- **6** corresponds to the **Pinus** species.\n",
    "- **7** corresponds to the **Acer** species.\n",
    "- **8** corresponds to the **Betula** species.\n",
    "- **9** corresponds to the **Fraxinus** species.\n",
    "- **10** corresponds to the **Cleared** species.\n",
    "- **11** corresponds to the **Alnus** species.\n",
    "- **12** corresponds to the **Populus** species.\n",
    "- **13** corresponds to the **Prunus** species.\n",
    "- **14** corresponds to the **Tilia** species."
   ]
  },
  {
   "cell_type": "code",
   "execution_count": 8,
   "metadata": {},
   "outputs": [
    {
     "name": "stdout",
     "output_type": "stream",
     "text": [
      "['Abies' 'Fagus' 'Larix' 'Picea' 'Quercus' 'Pseudotsuga' 'Pinus' 'Acer'\n",
      " 'Betula' 'Fraxinus' 'Cleared' 'Alnus' 'Populus' 'Prunus' 'Tilia']\n"
     ]
    }
   ],
   "source": [
    "df_main = pd.merge(df_train_test, df_json, on='Filenames')\n",
    "\n",
    "targets_encoder = {'Abies':0, 'Fagus':1, 'Larix':2, \n",
    "                   'Picea':3, 'Quercus':4, 'Pseudotsuga':5, \n",
    "                   'Pinus':6, 'Acer':7, 'Betula':8, 'Fraxinus':9,\n",
    "                    'Cleared':10, 'Alnus':11, 'Populus':12, \n",
    "                    'Prunus':13, 'Tilia':14}\n",
    "\n",
    "df_main['Class'] = df_main['Species'].map(targets_encoder)\n",
    "\n",
    "df_main.to_csv(main_path+\"Datapoints.csv\")\n",
    "print(pd.unique(df_main[\"Species\"]))"
   ]
  },
  {
   "cell_type": "code",
   "execution_count": 27,
   "metadata": {},
   "outputs": [
    {
     "data": {
      "text/plain": [
       "Class    45337.0\n",
       "Name: count, dtype: float64"
      ]
     },
     "metadata": {},
     "output_type": "display_data"
    },
    {
     "data": {
      "text/plain": [
       "Class    5043.0\n",
       "Name: count, dtype: float64"
      ]
     },
     "metadata": {},
     "output_type": "display_data"
    }
   ],
   "source": [
    "df_main = pd.read_csv(main_path+\"Datapoints.csv\")\n",
    "# condition = df_main['Percentages'] >= 0.6\n",
    "# df_main = df_main[condition]\n",
    "\n",
    "df_training = df_main[df_main[\"Is_trainable\"] == 1][[\"Filenames\", \"Class\"]].dropna().reset_index(drop=True)\n",
    "display(df_training.describe().loc[\"count\"])\n",
    "\n",
    "df_testing = df_main[df_main[\"Is_trainable\"] == 0][[\"Filenames\", \"Class\"]].dropna().reset_index(drop=True)\n",
    "display(df_testing.describe().loc[\"count\"])\n"
   ]
  },
  {
   "cell_type": "markdown",
   "metadata": {},
   "source": [
    "# PART II - S1 dataset"
   ]
  },
  {
   "cell_type": "markdown",
   "metadata": {},
   "source": [
    "Now, let's create our four arrays: X_train, X_test, Y_train, Y_test"
   ]
  },
  {
   "cell_type": "code",
   "execution_count": null,
   "metadata": {},
   "outputs": [],
   "source": [
    "# Training examples (~90sec)\n",
    "X_train = [tiff.imread(s1_path + file) for file in df_training[\"Filenames\"].values.tolist()]\n",
    "X_train = np.stack(X_train)\n",
    "# Dims are swapped in the default torch input order: (batch_size, in_channels, height, width)\n",
    "X_train = np.transpose(X_train, (0, 3, 1, 2))\n",
    "Y_train = np.array([df_training[\"Class\"].to_numpy()], dtype=int).T\n",
    "# One-hot encoding\n",
    "Y_train = np.squeeze(np.eye(15)[Y_train])\n",
    "\n",
    "# Testing examples (~20sec)\n",
    "X_test = [tiff.imread(s1_path + file) for file in df_testing[\"Filenames\"].tolist()]\n",
    "X_test = np.stack(X_test)\n",
    "# Dims are swapped in the default torch input order: (batch_size, in_channels, height, width)\n",
    "X_test = np.transpose(X_test, (0, 3, 1, 2))\n",
    "Y_test = np.array([df_testing[\"Class\"].to_numpy()], dtype=int).T\n",
    "# One-hot encoding\n",
    "Y_test = np.squeeze(np.eye(15)[Y_test])\n",
    "\n",
    "print(X_train.shape, X_test.shape, Y_train.shape, Y_test.shape)\n"
   ]
  },
  {
   "cell_type": "markdown",
   "metadata": {},
   "source": [
    "I will now be using a personal deep learning library, that is provided as a copy alongside this file, and can also be publically accessed remotely using the following link:  \n",
    "https://github.com/Nayel-Blidi/PyYel  \n",
    "\n",
    "This will allow us to quickly deploy a data processing pipeline, as well as implement some simple network architechtures, to test the complexity of the problem."
   ]
  },
  {
   "cell_type": "code",
   "execution_count": 29,
   "metadata": {},
   "outputs": [
    {
     "name": "stdout",
     "output_type": "stream",
     "text": [
      "The autoreload extension is already loaded. To reload it, use:\n",
      "  %reload_ext autoreload\n",
      "> batch_size, in_channels, height, width, output_size:\n",
      "\t 45337 \t 3 \t 6 \t 6 \t 15\n",
      "{'batch_size': 45337, 'in_channels': 3, 'height': 6, 'width': 6, 'input_size': 6, 'output_size': 15}\n"
     ]
    }
   ],
   "source": [
    "%load_ext autoreload\n",
    "%autoreload 2\n",
    "from PyYel.datapoint import Datapoint\n",
    "\n",
    "# Dummy class object, as we will overwrite the default pipeline in this usecase\n",
    "datapoint_class = Datapoint(X=X_train, y=Y_train)\n",
    "datapoint_class.splitOverwrite(X_train=X_train, X_test=X_test, Y_train=Y_train, Y_test=Y_test)\n",
    "datapoint_class.tensorize()\n",
    "datapoint_class.normalize()\n",
    "datapoint_class.dataload()\n",
    "datapoint_class._datapointShapes(display=True)\n",
    "\n",
    "train_dataloader, test_dataloader = datapoint_class.getDataloaders()\n",
    "kwargs = datapoint_class.getKwargs()\n",
    "kwargs[\"input_size\"] = 6\n",
    "print(kwargs)"
   ]
  },
  {
   "cell_type": "markdown",
   "metadata": {},
   "source": [
    "We will now implement a simple CNN to see how the datapoints react."
   ]
  },
  {
   "cell_type": "code",
   "execution_count": 30,
   "metadata": {},
   "outputs": [
    {
     "name": "stderr",
     "output_type": "stream",
     "text": [
      "100%|██████████| 500/500 [11:18<00:00,  1.36s/it]\n"
     ]
    },
    {
     "name": "stdout",
     "output_type": "stream",
     "text": [
      "Finished training, CNNs1_500e.pth saved at epoch 499\n",
      "Final loss: 2.1226119995117188\n"
     ]
    },
    {
     "data": {
      "image/png": "[encoded data removed]",
      "text/plain": [
       "<Figure size 640x480 with 1 Axes>"
      ]
     },
     "metadata": {},
     "output_type": "display_data"
    }
   ],
   "source": [
    "from PyYel.NNmodels import CNN\n",
    "from PyYel.compiler import Trainer, Tester, Loader\n",
    "\n",
    "model = CNN(filters=16, hidden_layers=64, **kwargs)\n",
    "model_name = \"CNNs1\"\n",
    "num_epochs = 500\n",
    "\n",
    "trainer_class = Trainer(model=model, model_name=model_name, num_epochs=num_epochs,\n",
    "                        input_path=\"\", output_path=output_path,\n",
    "                        train_dataloader=train_dataloader, test_dataloader=test_dataloader, **kwargs)\n",
    "trainer_class.runPipeline()"
   ]
  },
  {
   "cell_type": "markdown",
   "metadata": {},
   "source": [
    "All the trained models are save as .pth files inside of the /Models/ folder. Below is a testing cell, that loads the weights of the given model name, and then test it on the two datasets defined above in the Datapoint class."
   ]
  },
  {
   "cell_type": "code",
   "execution_count": 32,
   "metadata": {},
   "outputs": [
    {
     "name": "stdout",
     "output_type": "stream",
     "text": [
      "CNNs1_500e.pth weights loaded.\n",
      "testing accuracy: 0.2844\n",
      "training accuracy: 0.302115\n"
     ]
    }
   ],
   "source": [
    "model_loader = Loader(model_name=\"CNNs1_500e.pth\", input_path=output_path, filters=16, hidden_layers=64, **kwargs)\n",
    "model = model_loader.getModel()\n",
    "\n",
    "tester_class = Tester(model=model,\n",
    "                    input_path=\"\", output_path=output_path,\n",
    "                    train_dataloader=train_dataloader, test_dataloader=test_dataloader, **kwargs)\n",
    "tester_class.runPipeline()"
   ]
  },
  {
   "cell_type": "markdown",
   "metadata": {},
   "source": [
    "Here is a summary of all the Part II tests (s1 dataset):\n",
    "___\n",
    "- CNNs1_100 / Full training dataset : 27% accuracy in training and 26% testing\n",
    "- CNNs1_500 / Full training dataset : 30% accuracy in training and 28% in testing  \n",
    "___\n",
    "- CNNs1_100 / Percentage > 0.6 training dataset : 66% accuracy in training and testing\n",
    "___"
   ]
  },
  {
   "cell_type": "markdown",
   "metadata": {},
   "source": [
    "# PART III - S2 Dataset\n",
    "Let's repeat all the Part II steps, but using the S2 dataset instead, and see how much the results might be improved."
   ]
  },
  {
   "cell_type": "code",
   "execution_count": null,
   "metadata": {},
   "outputs": [],
   "source": [
    "# Training examples (~5min)\n",
    "X_train = [tiff.imread(s2_path + file) for file in df_training[\"Filenames\"].values.tolist()]\n",
    "X_train = np.stack(X_train, dtype=np.float32)\n",
    "# Dims are swapped in the default torch input order: (batch_size, in_channels, height, width)\n",
    "X_train = np.transpose(X_train, (0, 3, 1, 2))\n",
    "Y_train = np.array([df_training[\"Class\"].to_numpy()], dtype=int).T\n",
    "# One-hot encoding\n",
    "Y_train = np.squeeze(np.eye(15)[Y_train])\n",
    "\n",
    "# Testing examples (~1min)\n",
    "X_test = [tiff.imread(s2_path + file) for file in df_testing[\"Filenames\"].tolist()]\n",
    "X_test = np.stack(X_test, dtype=np.float32)\n",
    "# Dims are swapped in the default torch input order: (batch_size, in_channels, height, width)\n",
    "X_test = np.transpose(X_test, (0, 3, 1, 2))\n",
    "Y_test = np.array([df_testing[\"Class\"].to_numpy()], dtype=int).T\n",
    "# One-hot encoding\n",
    "Y_test = np.squeeze(np.eye(15)[Y_test])\n",
    "\n",
    "print(X_train.shape, X_test.shape, Y_train.shape, Y_test.shape)\n"
   ]
  },
  {
   "cell_type": "code",
   "execution_count": null,
   "metadata": {},
   "outputs": [
    {
     "name": "stdout",
     "output_type": "stream",
     "text": [
      "> batch_size, in_channels, height, width, output_size:\n",
      "\t 45337 \t 12 \t 6 \t 6 \t 15\n",
      "{'batch_size': 45337, 'in_channels': 12, 'height': 6, 'width': 6, 'input_size': 6, 'output_size': 15}\n"
     ]
    }
   ],
   "source": [
    "from PyYel.datapoint import Datapoint\n",
    "\n",
    "# Dummy class object, as we will overwrite the default pipeline in this usecase\n",
    "datapoint_class = Datapoint(X=X_train, y=Y_train)\n",
    "datapoint_class.splitOverwrite(X_train=X_train, X_test=X_test, Y_train=Y_train, Y_test=Y_test)\n",
    "datapoint_class.tensorize()\n",
    "datapoint_class.normalize()\n",
    "datapoint_class.dataload()\n",
    "datapoint_class._datapointShapes(display=True)\n",
    "\n",
    "train_dataloader, test_dataloader = datapoint_class.getDataloaders()\n",
    "kwargs = datapoint_class.getKwargs()\n",
    "kwargs[\"input_size\"] = 6\n",
    "print(kwargs)"
   ]
  },
  {
   "cell_type": "code",
   "execution_count": 30,
   "metadata": {},
   "outputs": [
    {
     "name": "stderr",
     "output_type": "stream",
     "text": [
      "100%|██████████| 500/500 [13:09<00:00,  1.58s/it]\n"
     ]
    },
    {
     "name": "stdout",
     "output_type": "stream",
     "text": [
      "Finished training, CNNs2_500e.pth saved at epoch 499\n",
      "Final loss: 1.1751729249954224\n"
     ]
    },
    {
     "data": {
      "image/png": "[encoded data removed]",
      "text/plain": [
       "<Figure size 640x480 with 1 Axes>"
      ]
     },
     "metadata": {},
     "output_type": "display_data"
    }
   ],
   "source": [
    "from PyYel.NNmodels import CNN\n",
    "from PyYel.compiler import Trainer, Tester, Loader\n",
    "\n",
    "model = CNN(filters=16, hidden_layers=64, **kwargs)\n",
    "model_name = \"CNNs2\"\n",
    "num_epochs = 500\n",
    "\n",
    "trainer_class = Trainer(model=model, model_name=model_name, num_epochs=num_epochs,\n",
    "                        input_path=\"\", output_path=output_path,\n",
    "                        train_dataloader=train_dataloader, test_dataloader=test_dataloader, **kwargs)\n",
    "trainer_class.runPipeline()"
   ]
  },
  {
   "cell_type": "code",
   "execution_count": null,
   "metadata": {},
   "outputs": [],
   "source": [
    "model_loader = Loader(model_name=\"CNNs2_500e.pth\", input_path=output_path, filters=16, hidden_layers=64, **kwargs)\n",
    "model = model_loader.getModel()\n",
    "\n",
    "tester_class = Tester(model=model,\n",
    "                    input_path=\"\", output_path=output_path,\n",
    "                    train_dataloader=train_dataloader, test_dataloader=test_dataloader, **kwargs)\n",
    "tester_class.runPipeline()"
   ]
  },
  {
   "cell_type": "markdown",
   "metadata": {},
   "source": [
    "Here is a summary of all the Part III tests (s2 dataset):\n",
    "___\n",
    "- CNNs2_100 / Full training dataset : 54% accuracy in training and 52% testing\n",
    "- CNNs2_500 / Full training dataset : 59% accuracy in training and 63% in testing\n",
    "___\n",
    "- CNNs2_100 / Percentage > 0.6 training dataset : 88% accuracy in training and testing\n",
    "___\n",
    "These results show no improvement between considering only the 'pure' data or when training over the whole dataset. "
   ]
  },
  {
   "cell_type": "markdown",
   "metadata": {},
   "source": [
    "# PART IV - S1 and S2 merged\n",
    "The next step is naturally to try to regroup the datasets from the two S1 and S2 stellites, in an attempt to reach a better accuracy than what has been shown so far above. "
   ]
  },
  {
   "cell_type": "code",
   "execution_count": 35,
   "metadata": {},
   "outputs": [
    {
     "name": "stdout",
     "output_type": "stream",
     "text": [
      "(45337, 15, 6, 6) (5043, 15, 6, 6) (45337, 15) (5043, 15)\n"
     ]
    }
   ],
   "source": [
    "# Training examples (~3min)\n",
    "X_train_s1 = [tiff.imread(s1_path + file) for file in df_training[\"Filenames\"].values.tolist()]\n",
    "X_train_s1 = np.stack(X_train_s1, dtype=np.float32)\n",
    "X_train_s2 = [tiff.imread(s2_path + file) for file in df_training[\"Filenames\"].values.tolist()]\n",
    "X_train_s2 = np.stack(X_train_s2, dtype=np.float32)\n",
    "X_train = np.concatenate([X_train_s1, X_train_s2], axis=3) # Concatenate alongside the soon-to-be in_channels dimension\n",
    "# Dims are swapped in the default torch input order: (batch_size, in_channels, height, width)\n",
    "X_train = np.transpose(X_train, (0, 3, 1, 2))\n",
    "Y_train = np.array([df_training[\"Class\"].to_numpy()], dtype=int).T\n",
    "# One-hot encoding\n",
    "Y_train = np.squeeze(np.eye(15)[Y_train])\n",
    "\n",
    "# Testing examples (~30sec)\n",
    "X_test_s1 = [tiff.imread(s1_path + file) for file in df_testing[\"Filenames\"].tolist()]\n",
    "X_test_s1 = np.stack(X_test_s1, dtype=np.float32)\n",
    "X_test_s2 = [tiff.imread(s2_path + file) for file in df_testing[\"Filenames\"].tolist()]\n",
    "X_test_s2 = np.stack(X_test_s2, dtype=np.float32)\n",
    "X_test = np.concatenate([X_test_s1, X_test_s2], axis=3) # Concatenate alongside the soon-to-be in_channels dimension\n",
    "# Dims are swapped in the default torch input order: (batch_size, in_channels, height, width)\n",
    "X_test = np.transpose(X_test, (0, 3, 1, 2))\n",
    "Y_test = np.array([df_testing[\"Class\"].to_numpy()], dtype=int).T\n",
    "# One-hot encoding\n",
    "Y_test = np.squeeze(np.eye(15)[Y_test])\n",
    "\n",
    "print(X_train.shape, X_test.shape, Y_train.shape, Y_test.shape)\n"
   ]
  },
  {
   "cell_type": "code",
   "execution_count": 36,
   "metadata": {},
   "outputs": [
    {
     "name": "stdout",
     "output_type": "stream",
     "text": [
      "> batch_size, in_channels, height, width, output_size:\n",
      "\t 45337 \t 15 \t 6 \t 6 \t 15\n",
      "{'batch_size': 45337, 'in_channels': 15, 'height': 6, 'width': 6, 'input_size': 6, 'output_size': 15}\n"
     ]
    }
   ],
   "source": [
    "from PyYel.datapoint import Datapoint\n",
    "\n",
    "# Dummy class object, as we will overwrite the default pipeline in this usecase\n",
    "datapoint_class = Datapoint(X=X_train, y=Y_train)\n",
    "datapoint_class.splitOverwrite(X_train=X_train, X_test=X_test, Y_train=Y_train, Y_test=Y_test)\n",
    "datapoint_class.tensorize()\n",
    "datapoint_class.normalize()\n",
    "datapoint_class.dataload()\n",
    "datapoint_class._datapointShapes(display=True)\n",
    "\n",
    "train_dataloader, test_dataloader = datapoint_class.getDataloaders()\n",
    "kwargs = datapoint_class.getKwargs()\n",
    "kwargs[\"input_size\"] = 6\n",
    "print(kwargs)"
   ]
  },
  {
   "cell_type": "code",
   "execution_count": 37,
   "metadata": {},
   "outputs": [
    {
     "name": "stderr",
     "output_type": "stream",
     "text": [
      "100%|██████████| 1000/1000 [26:15<00:00,  1.58s/it]\n"
     ]
    },
    {
     "name": "stdout",
     "output_type": "stream",
     "text": [
      "Finished training, CNNs1s2_1000e.pth saved at epoch 997\n",
      "Final loss: 1.0112621784210205\n"
     ]
    },
    {
     "data": {
      "image/png": "[encoded data removed]",
      "text/plain": [
       "<Figure size 640x480 with 1 Axes>"
      ]
     },
     "metadata": {},
     "output_type": "display_data"
    }
   ],
   "source": [
    "from PyYel.NNmodels import CNN\n",
    "from PyYel.compiler import Trainer, Tester, Loader\n",
    "\n",
    "model = CNN(filters=16, hidden_layers=64, **kwargs)\n",
    "model_name = \"CNNs1s2\"\n",
    "num_epochs = 1000\n",
    "\n",
    "trainer_class = Trainer(model=model, model_name=model_name, num_epochs=num_epochs,\n",
    "                        input_path=\"\", output_path=output_path,\n",
    "                        train_dataloader=train_dataloader, test_dataloader=test_dataloader, **kwargs)\n",
    "trainer_class.runPipeline()"
   ]
  },
  {
   "cell_type": "code",
   "execution_count": 39,
   "metadata": {},
   "outputs": [
    {
     "name": "stdout",
     "output_type": "stream",
     "text": [
      "CNNs1s2_1000e.pth weights loaded.\n",
      "testing accuracy: 0.6211\n",
      "training accuracy: 0.676511\n"
     ]
    }
   ],
   "source": [
    "model_loader = Loader(model_name=\"CNNs1s2_1000e.pth\", input_path=output_path, filters=16, hidden_layers=64, **kwargs)\n",
    "model = model_loader.getModel()\n",
    "\n",
    "tester_class = Tester(model=model,\n",
    "                    input_path=\"\", output_path=output_path,\n",
    "                    train_dataloader=train_dataloader, test_dataloader=test_dataloader, **kwargs)\n",
    "tester_class.runPipeline()"
   ]
  },
  {
   "cell_type": "markdown",
   "metadata": {},
   "source": [
    "Here is a summary of all the Part IV tests (s1 & s2 datasets):\n",
    "___\n",
    "- CNNs1s2_100 / Full training dataset : 54% accuracy in training and 52% in testing\n",
    "- CNNs1s2_500 / Full training dataset : 63% accuracy in training and 60% in testing\n",
    "- CNNs1s2_1000 / Full training dataset : 68% accuracy in training and 62% in testing\n",
    "___\n",
    "- CNNs1s2_100 / Percentage > 0.6 training dataset : 91% accuracy in training and 89% in testing\n",
    "___\n",
    "These results show no improvement between considering only the 'pure' data or when training over the whole dataset. "
   ]
  },
  {
   "cell_type": "markdown",
   "metadata": {},
   "source": [
    "# PART V - Fully connected NN architecture\n",
    "The Convolution Neural Networks seem to be reaching a maximum efficiency, but considering the rather small amount of features, let's try a different approach."
   ]
  },
  {
   "cell_type": "code",
   "execution_count": 10,
   "metadata": {},
   "outputs": [
    {
     "name": "stdout",
     "output_type": "stream",
     "text": [
      "(9577, 540) (1074, 540) (9577, 3) (1074, 3)\n"
     ]
    }
   ],
   "source": [
    "# Training examples (~40sec)\n",
    "X_train_s1 = [tiff.imread(s1_path + file) for file in df_training[\"Filenames\"].values.tolist()]\n",
    "X_train_s1 = np.stack(X_train_s1, dtype=np.float32)\n",
    "X_train_s2 = [tiff.imread(s2_path + file) for file in df_training[\"Filenames\"].values.tolist()]\n",
    "X_train_s2 = np.stack(X_train_s2, dtype=np.float32)\n",
    "X_train = np.concatenate([X_train_s1, X_train_s2], axis=3) # Concatenate alongside the soon-to-be in_channels dimension\n",
    "# Dims are swapped in the default torch input order: (batch_size, in_channels, height, width)\n",
    "X_train = np.transpose(X_train, (0, 3, 1, 2))\n",
    "Y_train = np.array([df_training[\"Class\"].to_numpy()], dtype=int).T\n",
    "# One-hot encoding\n",
    "Y_train = np.squeeze(np.eye(3)[Y_train])\n",
    "\n",
    "# Testing examples (~15sec)\n",
    "X_test_s1 = [tiff.imread(s1_path + file) for file in df_testing[\"Filenames\"].tolist()]\n",
    "X_test_s1 = np.stack(X_test_s1, dtype=np.float32)\n",
    "X_test_s2 = [tiff.imread(s2_path + file) for file in df_testing[\"Filenames\"].tolist()]\n",
    "X_test_s2 = np.stack(X_test_s2, dtype=np.float32)\n",
    "X_test = np.concatenate([X_test_s1, X_test_s2], axis=3) # Concatenate alongside the soon-to-be in_channels dimension\n",
    "# Dims are swapped in the default torch input order: (batch_size, in_channels, height, width)\n",
    "X_test = np.transpose(X_test, (0, 3, 1, 2))\n",
    "Y_test = np.array([df_testing[\"Class\"].to_numpy()], dtype=int).T\n",
    "# One-hot encoding\n",
    "Y_test = np.squeeze(np.eye(3)[Y_test])\n",
    "\n",
    "print(X_train.shape, X_test.shape, Y_train.shape, Y_test.shape)"
   ]
  },
  {
   "cell_type": "code",
   "execution_count": 41,
   "metadata": {},
   "outputs": [
    {
     "name": "stdout",
     "output_type": "stream",
     "text": [
      "(45337, 540) (5043, 540) (45337, 15) (5043, 15)\n"
     ]
    }
   ],
   "source": [
    "# Fattening\n",
    "X_train = X_train.reshape((X_train.shape[0], -1))\n",
    "X_test = X_test.reshape((X_test.shape[0], -1))\n",
    "print(X_train.shape, X_test.shape, Y_train.shape, Y_test.shape)"
   ]
  },
  {
   "cell_type": "code",
   "execution_count": 42,
   "metadata": {},
   "outputs": [
    {
     "name": "stdout",
     "output_type": "stream",
     "text": [
      "> batch_size, in_channels, height, width, output_size:\n",
      "\t 45337 \t 540 \t 1 \t 1 \t 15\n",
      "{'batch_size': 45337, 'in_channels': 540, 'height': 1, 'width': 1, 'input_size': 540, 'output_size': 15}\n"
     ]
    }
   ],
   "source": [
    "from PyYel.datapoint import Datapoint\n",
    "\n",
    "# Dummy class object, as we will overwrite the default pipeline in this usecase\n",
    "datapoint_class = Datapoint(X=X_train, y=Y_train)\n",
    "datapoint_class.splitOverwrite(X_train=X_train, X_test=X_test, Y_train=Y_train, Y_test=Y_test)\n",
    "datapoint_class.tensorize()\n",
    "datapoint_class.normalize()\n",
    "datapoint_class.dataload()\n",
    "datapoint_class._datapointShapes(display=True)\n",
    "\n",
    "train_dataloader, test_dataloader = datapoint_class.getDataloaders()\n",
    "kwargs = datapoint_class.getKwargs()\n",
    "print(kwargs)"
   ]
  },
  {
   "cell_type": "code",
   "execution_count": 47,
   "metadata": {},
   "outputs": [
    {
     "name": "stderr",
     "output_type": "stream",
     "text": [
      "100%|██████████| 500/500 [07:22<00:00,  1.13it/s]\n"
     ]
    },
    {
     "name": "stdout",
     "output_type": "stream",
     "text": [
      "Finished training, LayeredNNs1s2_500e.pth saved at epoch 493\n",
      "Final loss: 0.7725270390510559\n"
     ]
    },
    {
     "data": {
      "image/png": "[encoded data removed]",
      "text/plain": [
       "<Figure size 640x480 with 1 Axes>"
      ]
     },
     "metadata": {},
     "output_type": "display_data"
    }
   ],
   "source": [
    "from PyYel.NNmodels import LayeredNN\n",
    "from PyYel.compiler import Trainer, Tester, Loader\n",
    "\n",
    "model = LayeredNN(hidden_layers=256, **kwargs)\n",
    "model_name = \"LayeredNNs1s2\"\n",
    "num_epochs = 500\n",
    "\n",
    "trainer_class = Trainer(model=model, model_name=model_name, num_epochs=num_epochs,\n",
    "                        input_path=\"\", output_path=output_path, lr=0.001,\n",
    "                        train_dataloader=train_dataloader, test_dataloader=test_dataloader, **kwargs)\n",
    "trainer_class.runPipeline()"
   ]
  },
  {
   "cell_type": "code",
   "execution_count": 49,
   "metadata": {},
   "outputs": [
    {
     "name": "stdout",
     "output_type": "stream",
     "text": [
      "LayeredNNs1s2_500e.pth weights loaded.\n",
      "testing accuracy: 0.2669\n",
      "training accuracy: 0.315085\n"
     ]
    }
   ],
   "source": [
    "model_loader = Loader(model_name=\"LayeredNNs1s2_500e.pth\", input_path=output_path, hidden_layers=256, **kwargs)\n",
    "model = model_loader.getModel()\n",
    "\n",
    "tester_class = Tester(model=model,\n",
    "                    input_path=\"\", output_path=output_path,\n",
    "                    train_dataloader=train_dataloader, test_dataloader=test_dataloader, **kwargs)\n",
    "tester_class.runPipeline()"
   ]
  },
  {
   "cell_type": "markdown",
   "metadata": {},
   "source": [
    "Here is a summary of all the Part V tests (s1 & s2 datasets):\n",
    "___\n",
    "- LayeredNNs1s2_100 / Full training dataset : 29% accuracy in training and 28% in testing\n",
    "- LayeredNNs1s2_500 / Full training dataset : 32% accuracy in training and 27% in testing\n"
   ]
  },
  {
   "cell_type": "markdown",
   "metadata": {},
   "source": [
    "# PART VI - Transfer learning\n",
    "In the following part, we'll try to implement a pretrained neural network. Because of the complexity and the cost of these operations, we will only train it over 3 classes. All the previous were also trained on only 3 classes for comparison :  \n",
    "- **0** corresponds to the **Abies** species,\n",
    "- **1** corresponds to the **Fagus** species,\n",
    "- **5** corresponds to the **Pseudotsuga** species.\n",
    "  \n",
    "With the following results :    \n",
    "| Architecture | Epochs | Training Accuracy (%) | Testing Accuracy (%) |\n",
    "|--------------|--------|-----------------------|----------------------|\n",
    "| CNN          | 500    | 97 | 90 |\n",
    "| CNN          | 1000   | **99** | **90** |\n",
    "| LayeredNN    | 1000   | 100 | 88 |\n",
    "| SparseLayeredNN (*) | 1000 | 99 | 89 |\n",
    "| VGG          | 100     | 79 | 78 |\n",
    "| LSTM (*)        | 1000   | 100 | 85 |\n",
    "  \n",
    "*\\* These networks were not presented here due to the lack of new relevant results they provided*\n",
    "\n",
    "It seems like so far, all the models above have been struggling to reach a testing accuracy above 90%. To try and overcome it, we'll now implement some pretrained models, by freezing some weights and retraining some layers to adapt it to the current problem. This technique is called 'transfer learning'.  "
   ]
  },
  {
   "cell_type": "code",
   "execution_count": 20,
   "metadata": {},
   "outputs": [
    {
     "data": {
      "text/plain": [
       "Class    9577.0\n",
       "Name: count, dtype: float64"
      ]
     },
     "metadata": {},
     "output_type": "display_data"
    },
    {
     "data": {
      "text/plain": [
       "Class    1074.0\n",
       "Name: count, dtype: float64"
      ]
     },
     "metadata": {},
     "output_type": "display_data"
    }
   ],
   "source": [
    "df_main = pd.read_csv(main_path+\"Datapoints.csv\")\n",
    "\n",
    "# df_training = df_main[df_main[\"Is_trainable\"] == 1][[\"Filenames\", \"Class\"]].dropna().reset_index(drop=True)\n",
    "df_training = df_main[(df_main[\"Is_trainable\"] == 1) & (df_main[\"Class\"].isin([0, 1, 5]))][[\"Filenames\", \"Class\"]].dropna().reset_index(drop=True)\n",
    "display(df_training.describe().loc[\"count\"])\n",
    "\n",
    "# df_testing = df_main[df_main[\"Is_trainable\"] == 0][[\"Filenames\", \"Class\"]].dropna().reset_index(drop=True)\n",
    "df_testing = df_main[(df_main[\"Is_trainable\"] == 0) & (df_main[\"Class\"].isin([0, 1, 5]))][[\"Filenames\", \"Class\"]].dropna().reset_index(drop=True)\n",
    "display(df_testing.describe().loc[\"count\"])"
   ]
  },
  {
   "cell_type": "code",
   "execution_count": 21,
   "metadata": {},
   "outputs": [
    {
     "name": "stdout",
     "output_type": "stream",
     "text": [
      "(9577, 15, 6, 6) (1074, 15, 6, 6) (9577, 3) (1074, 3)\n",
      "(9577, 15, 24, 24) (1074, 15, 24, 24) (9577, 3) (1074, 3)\n",
      "> batch_size, in_channels, height, width, output_size:\n",
      "\t 9577 \t 15 \t 24 \t 24 \t 3\n"
     ]
    }
   ],
   "source": [
    "# Training examples (~30sec)\n",
    "X_train_s1 = [tiff.imread(s1_path + file) for file in df_training[\"Filenames\"].values.tolist()]\n",
    "X_train_s1 = np.stack(X_train_s1, dtype=np.float32)\n",
    "X_train_s2 = [tiff.imread(s2_path + file) for file in df_training[\"Filenames\"].values.tolist()]\n",
    "X_train_s2 = np.stack(X_train_s2, dtype=np.float32)\n",
    "X_train = np.concatenate([X_train_s1, X_train_s2], axis=3) # Concatenate alongside the soon-to-be in_channels dimension\n",
    "# Dims are swapped in the default torch input order: (batch_size, in_channels, height, width)\n",
    "X_train = np.transpose(X_train, (0, 3, 1, 2))\n",
    "Y_train = np.array([df_training[\"Class\"].to_numpy()], dtype=int).T\n",
    "# One-hot encoding\n",
    "Y_train[Y_train == 5] = 2\n",
    "Y_train = np.squeeze(np.eye(3)[Y_train])\n",
    "\n",
    "# Testing examples (~10sec)\n",
    "X_test_s1 = [tiff.imread(s1_path + file) for file in df_testing[\"Filenames\"].tolist()]\n",
    "X_test_s1 = np.stack(X_test_s1, dtype=np.float32)\n",
    "X_test_s2 = [tiff.imread(s2_path + file) for file in df_testing[\"Filenames\"].tolist()]\n",
    "X_test_s2 = np.stack(X_test_s2, dtype=np.float32)\n",
    "X_test = np.concatenate([X_test_s1, X_test_s2], axis=3) # Concatenate alongside the soon-to-be in_channels dimension\n",
    "# Dims are swapped in the default torch input order: (batch_size, in_channels, height, width)\n",
    "X_test = np.transpose(X_test, (0, 3, 1, 2))\n",
    "Y_test = np.array([df_testing[\"Class\"].to_numpy()], dtype=int).T\n",
    "# One-hot encoding\n",
    "Y_test[Y_test == 5] = 2\n",
    "Y_test = np.squeeze(np.eye(3)[Y_test])\n",
    "\n",
    "# Iterpolation (~10sec)\n",
    "from scipy.ndimage import zoom\n",
    "print(X_train.shape, X_test.shape, Y_train.shape, Y_test.shape)\n",
    "zoom_factors = (1, 1, 4, 4)  # (in_channels, height, width)\n",
    "X_train = zoom(X_train, zoom_factors, order=1, mode='nearest')\n",
    "X_test = zoom(X_test, zoom_factors, order=1, mode='nearest')\n",
    "print(X_train.shape, X_test.shape, Y_train.shape, Y_test.shape)\n",
    "\n",
    "%load_ext autoreload\n",
    "%autoreload 2\n",
    "from PyYel.datapoint import Datapoint\n",
    "\n",
    "# Dummy class object, as we will overwrite the default pipeline in this usecase\n",
    "datapoint_class = Datapoint(X=X_train, y=Y_train)\n",
    "datapoint_class.splitOverwrite(X_train=X_train, X_test=X_test, Y_train=Y_train, Y_test=Y_test)\n",
    "datapoint_class.tensorize()\n",
    "datapoint_class.normalize()\n",
    "datapoint_class.dataload()\n",
    "datapoint_class._datapointShapes(display=True)\n",
    "\n",
    "train_dataloader, test_dataloader = datapoint_class.getDataloaders()\n",
    "kwargs = datapoint_class.getKwargs()"
   ]
  },
  {
   "cell_type": "code",
   "execution_count": 24,
   "metadata": {},
   "outputs": [],
   "source": [
    "import torch\n",
    "import torch.nn as nn\n",
    "import torchvision.models as models\n",
    "\n",
    "class ModifiedPretrainedVGG(nn.Module):\n",
    "    def __init__(self, num_classes=3, in_channels=15):\n",
    "        super(ModifiedPretrainedVGG, self).__init__()\n",
    "\n",
    "        # Pre-trained VGG model\n",
    "        pretrained_vgg = models.vgg16(weights=models.VGG16_Weights.IMAGENET1K_V1)\n",
    "\n",
    "        # Modify the first convolutional layer to accept input\n",
    "        pretrained_vgg.features[0] = nn.Conv2d(\n",
    "            in_channels, 64, kernel_size=3, stride=1, padding=1\n",
    "        )\n",
    "\n",
    "        # Remove the last pooling layer to adapt to smaller input size\n",
    "        pretrained_vgg.features = pretrained_vgg.features[:-1]\n",
    "\n",
    "        # Classifier layers (head) is replaced by a new one\n",
    "        pretrained_vgg.classifier = nn.Sequential(nn.Linear(512, 256),  \n",
    "                                                    nn.ReLU(inplace=True),\n",
    "                                                    nn.Linear(256, num_classes)\n",
    "                                                )\n",
    "        \n",
    "        # The deep feature layers are frozen\n",
    "        for param in pretrained_vgg.features.parameters():\n",
    "            param.requires_grad = False    \n",
    "        # The first input layer is retrained\n",
    "        pretrained_vgg.features[0].requires_grad = True\n",
    "\n",
    "        self.features = pretrained_vgg.features\n",
    "        self.classifier = pretrained_vgg.classifier\n",
    "\n",
    "    def forward(self, x):\n",
    "        x = self.features(x)\n",
    "        x = x.view(x.size(0), -1)\n",
    "        x = self.classifier(x)\n",
    "        return x\n",
    "\n"
   ]
  },
  {
   "cell_type": "code",
   "execution_count": 23,
   "metadata": {},
   "outputs": [
    {
     "name": "stdout",
     "output_type": "stream",
     "text": [
      "ModifiedPretrainedVGG(\n",
      "  (features): Sequential(\n",
      "    (0): Conv2d(15, 64, kernel_size=(3, 3), stride=(1, 1), padding=(1, 1))\n",
      "    (1): ReLU(inplace=True)\n",
      "    (2): Conv2d(64, 64, kernel_size=(3, 3), stride=(1, 1), padding=(1, 1))\n",
      "    (3): ReLU(inplace=True)\n",
      "    (4): MaxPool2d(kernel_size=2, stride=2, padding=0, dilation=1, ceil_mode=False)\n",
      "    (5): Conv2d(64, 128, kernel_size=(3, 3), stride=(1, 1), padding=(1, 1))\n",
      "    (6): ReLU(inplace=True)\n",
      "    (7): Conv2d(128, 128, kernel_size=(3, 3), stride=(1, 1), padding=(1, 1))\n",
      "    (8): ReLU(inplace=True)\n",
      "    (9): MaxPool2d(kernel_size=2, stride=2, padding=0, dilation=1, ceil_mode=False)\n",
      "    (10): Conv2d(128, 256, kernel_size=(3, 3), stride=(1, 1), padding=(1, 1))\n",
      "    (11): ReLU(inplace=True)\n",
      "    (12): Conv2d(256, 256, kernel_size=(3, 3), stride=(1, 1), padding=(1, 1))\n",
      "    (13): ReLU(inplace=True)\n",
      "    (14): Conv2d(256, 256, kernel_size=(3, 3), stride=(1, 1), padding=(1, 1))\n",
      "    (15): ReLU(inplace=True)\n",
      "    (16): MaxPool2d(kernel_size=2, stride=2, padding=0, dilation=1, ceil_mode=False)\n",
      "    (17): Conv2d(256, 512, kernel_size=(3, 3), stride=(1, 1), padding=(1, 1))\n",
      "    (18): ReLU(inplace=True)\n",
      "    (19): Conv2d(512, 512, kernel_size=(3, 3), stride=(1, 1), padding=(1, 1))\n",
      "    (20): ReLU(inplace=True)\n",
      "    (21): Conv2d(512, 512, kernel_size=(3, 3), stride=(1, 1), padding=(1, 1))\n",
      "    (22): ReLU(inplace=True)\n",
      "    (23): MaxPool2d(kernel_size=2, stride=2, padding=0, dilation=1, ceil_mode=False)\n",
      "    (24): Conv2d(512, 512, kernel_size=(3, 3), stride=(1, 1), padding=(1, 1))\n",
      "    (25): ReLU(inplace=True)\n",
      "    (26): Conv2d(512, 512, kernel_size=(3, 3), stride=(1, 1), padding=(1, 1))\n",
      "    (27): ReLU(inplace=True)\n",
      "    (28): Conv2d(512, 512, kernel_size=(3, 3), stride=(1, 1), padding=(1, 1))\n",
      "    (29): ReLU(inplace=True)\n",
      "  )\n",
      "  (classifier): Sequential(\n",
      "    (0): Linear(in_features=512, out_features=256, bias=True)\n",
      "    (1): ReLU(inplace=True)\n",
      "    (2): Linear(in_features=256, out_features=3, bias=True)\n",
      "  )\n",
      ")\n"
     ]
    },
    {
     "name": "stderr",
     "output_type": "stream",
     "text": [
      "100%|██████████| 10/10 [04:34<00:00, 27.46s/it]\n"
     ]
    },
    {
     "name": "stdout",
     "output_type": "stream",
     "text": [
      "Finished training, VGGs1s2_10e.pth saved at epoch 9\n",
      "Final loss: 0.7194603085517883\n"
     ]
    },
    {
     "data": {
      "image/png": "[encoded data removed]",
      "text/plain": [
       "<Figure size 640x480 with 1 Axes>"
      ]
     },
     "metadata": {},
     "output_type": "display_data"
    }
   ],
   "source": [
    "from PyYel.compiler import Trainer, Tester, Loader\n",
    "\n",
    "# Create an instance of the modified pre-trained VGG\n",
    "num_classes = 3\n",
    "input_size = (15, 24, 24)\n",
    "model = ModifiedPretrainedVGG(num_classes=num_classes, in_channels=input_size[0])\n",
    "\n",
    "print(model)\n",
    "\n",
    "model_name = \"VGGs1s2\"\n",
    "num_epochs = 100\n",
    "\n",
    "trainer_class = Trainer(model=model, model_name=model_name, num_epochs=num_epochs,\n",
    "                        input_path=\"\", output_path=output_path,\n",
    "                        train_dataloader=train_dataloader, test_dataloader=test_dataloader, **kwargs)\n",
    "trainer_class.runPipeline()\n"
   ]
  },
  {
   "cell_type": "code",
   "execution_count": 26,
   "metadata": {},
   "outputs": [
    {
     "name": "stdout",
     "output_type": "stream",
     "text": [
      "testing accuracy: 0.7840\n",
      "training accuracy: 0.785632\n"
     ]
    }
   ],
   "source": [
    "from PyYel.compiler import Trainer, Tester, Loader\n",
    "import torch\n",
    "\n",
    "num_classes = 3\n",
    "input_size = (15, 24, 24)\n",
    "\n",
    "model = ModifiedPretrainedVGG(num_classes=num_classes, in_channels=input_size[0])\n",
    "model = torch.load(f\"{output_path}/VGGs1s2_100e.pth\")\n",
    "\n",
    "tester_class = Tester(model=model,\n",
    "                    input_path=\"\", output_path=output_path,\n",
    "                    train_dataloader=train_dataloader, test_dataloader=test_dataloader, **kwargs)\n",
    "tester_class.runPipeline()"
   ]
  },
  {
   "cell_type": "markdown",
   "metadata": {},
   "source": [
    "Here is a summary of all the Part VI tests (s1 & s2 datasets) **(fully retrained NN)**:\n",
    "___\n",
    "- VGGs1s2_10e / Full training dataset : 65% accuracy in training and 65% in testing\n",
    "- VGGs1s2_50e / Full training dataset : 80% accuracy in training and 79% in testing\n",
    "___\n",
    "- VGGs1s2_50e / Percentage > 0.6 dataset : 80% accuracy in training and 78% in testing\n",
    "___\n",
    "\n",
    "Here is a summary of all the Part VI tests (s1 & s2 datasets) **(Pretrained deep layers)**:\n",
    "___\n",
    "- VGGs1s2_10e / Full training dataset : 70% accuracy in training and 70% in testing\n",
    "- VGGs1s2_100e / Full training dataset : 79% accuracy in training and 78% in testing\n",
    "___\n",
    "- VGGs1s2_50e / Percentage > 0.6 dataset : 80% accuracy in training and 78% in testing\n",
    "___\n"
   ]
  },
  {
   "cell_type": "markdown",
   "metadata": {},
   "source": []
  }
 ],
 "metadata": {
  "kernelspec": {
   "display_name": "base",
   "language": "python",
   "name": "python3"
  },
  "language_info": {
   "codemirror_mode": {
    "name": "ipython",
    "version": 3
   },
   "file_extension": ".py",
   "mimetype": "text/x-python",
   "name": "python",
   "nbconvert_exporter": "python",
   "pygments_lexer": "ipython3",
   "version": "3.11.5"
  }
 },
 "nbformat": 4,
 "nbformat_minor": 2
}
